{
 "cells": [
  {
   "cell_type": "code",
   "execution_count": 13,
   "metadata": {},
   "outputs": [
    {
     "data": {
      "text/plain": [
       "<bound method NDFrame.head of                    asset  return  risk  weight  target_weight\n",
       "0        Absolute Return     3.5   7.0   21.60          23.50\n",
       "1        Domestic Equity     6.0  17.0    2.30           2.25\n",
       "2         Foreign Equity     9.5  21.5   11.75          11.75\n",
       "3      Leveraged Buyouts     8.6  21.1   15.80          17.50\n",
       "4      Natural Resources     8.5  24.0    3.90           4.50\n",
       "5            Real Estate     5.5  16.0    8.60           9.50\n",
       "6        Venture Capital    12.3  37.8   13.70          23.50\n",
       "7  Cash and Fixed Income     0.0   3.0   13.70           7.50>"
      ]
     },
     "execution_count": 13,
     "metadata": {},
     "output_type": "execute_result"
    }
   ],
   "source": [
    "import pandas as pd\n",
    "\n",
    "data = [\n",
    "    ['Absolute Return', 3.5, 7.0, 21.6, 23.5],\n",
    "    ['Domestic Equity', 6, 17, 2.3, 2.25],\n",
    "    ['Foreign Equity', 9.5, 21.5, 11.75, 11.75],\n",
    "    ['Leveraged Buyouts', 8.6, 21.1, 15.8, 17.5],\n",
    "    ['Natural Resources', 8.5, 24, 3.9, 4.5],\n",
    "    ['Real Estate', 5.5, 16, 8.6, 9.5],\n",
    "    ['Venture Capital', 12.3, 37.8 , 13.7, 23.5],\n",
    "    ['Cash and Fixed Income', 0, 3, 13.7, 7.5]\n",
    "]\n",
    "\n",
    "df = pd.DataFrame(data, columns = ['asset', 'return', 'risk', 'weight', 'target_weight'])\n",
    "df.head "
   ]
  },
  {
   "cell_type": "code",
   "execution_count": 23,
   "metadata": {},
   "outputs": [
    {
     "name": "stdout",
     "output_type": "stream",
     "text": [
      "0.0737425\n"
     ]
    }
   ],
   "source": [
    "# Question 2\n",
    "# Expected return of target portfolio\n",
    "\n",
    "exp_return = 0\n",
    "\n",
    "for index, row in df.iterrows():\n",
    "    exp_return += row['return'] * row['target_weight']\n",
    "\n",
    "print(exp_return * 0.0001)"
   ]
  },
  {
   "cell_type": "code",
   "execution_count": 24,
   "metadata": {},
   "outputs": [
    {
     "data": {
      "text/plain": [
       "<bound method NDFrame.head of    Absolute Return  Domestic Equity  Foreign Equity  Leveraged Buyouts  \\\n",
       "0              1.0              0.6            0.60               0.60   \n",
       "1              0.6              1.0            0.85               0.80   \n",
       "2              0.6              0.6            1.00               0.65   \n",
       "3              0.6              0.8            0.65               1.00   \n",
       "4              0.1              0.2            0.25               0.10   \n",
       "5              0.6              0.6            0.65               0.60   \n",
       "6              0.2              0.4            0.40               0.20   \n",
       "7              0.1              0.1            0.10               0.10   \n",
       "\n",
       "   Natural Resources  Real Estate  Venture Capital  Cash and Fixed Income  \n",
       "0               0.10         0.60              0.2                    0.1  \n",
       "1               0.20         0.60              0.4                    0.1  \n",
       "2               0.25         0.65              0.4                    0.1  \n",
       "3               0.10         0.60              0.2                    0.1  \n",
       "4               1.00         0.10              0.1                    0.1  \n",
       "5               0.10         1.00              0.2                    0.1  \n",
       "6               0.10         0.20              1.0                    0.0  \n",
       "7               0.00         0.10              0.0                    1.0  >"
      ]
     },
     "execution_count": 24,
     "metadata": {},
     "output_type": "execute_result"
    }
   ],
   "source": [
    "corr_data = [\n",
    "    [1 , 0.6, 0.6, 0.6, 0.1, 0.6, 0.2, 0.1],\n",
    "    [0.6, 1, 0.85, 0.8, 0.2, 0.6, 0.4, 0.1],\n",
    "    [0.6, 0.6, 1, 0.65, 0.25, 0.65, 0.4, 0.1],\n",
    "    [0.6, 0.8, 0.65, 1, 0.1, 0.6, 0.2, 0.1 ],\n",
    "    [0.1, 0.2, 0.25, 0.1, 1, 0.1, 0.1, 0.1],\n",
    "    [0.6, 0.6, 0.65, 0.6, 0.1, 1, 0.2, 0.1],\n",
    "    [0.2, 0.4, 0.4, 0.2, 0.1, 0.2, 1, 0],\n",
    "    [0.1, 0.1, 0.1, 0.1, 0, 0.1, 0, 1]\n",
    "]\n",
    "\n",
    "corr_df = pd.DataFrame(corr_data, columns = \n",
    "                      ['Absolute Return', \n",
    "                       'Domestic Equity', \n",
    "                       'Foreign Equity', \n",
    "                       'Leveraged Buyouts', \n",
    "                       'Natural Resources', \n",
    "                       'Real Estate',\n",
    "                       'Venture Capital',\n",
    "                       'Cash and Fixed Income'])\n",
    "corr_df.head"
   ]
  },
  {
   "cell_type": "code",
   "execution_count": null,
   "metadata": {},
   "outputs": [],
   "source": [
    "# Question 3"
   ]
  }
 ],
 "metadata": {
  "kernelspec": {
   "display_name": "base",
   "language": "python",
   "name": "python3"
  },
  "language_info": {
   "codemirror_mode": {
    "name": "ipython",
    "version": 3
   },
   "file_extension": ".py",
   "mimetype": "text/x-python",
   "name": "python",
   "nbconvert_exporter": "python",
   "pygments_lexer": "ipython3",
   "version": "3.11.4"
  }
 },
 "nbformat": 4,
 "nbformat_minor": 2
}
