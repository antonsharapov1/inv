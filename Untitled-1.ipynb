{
 "cells": [
  {
   "cell_type": "code",
   "execution_count": 2,
   "metadata": {},
   "outputs": [
    {
     "name": "stdout",
     "output_type": "stream",
     "text": [
      "true\n"
     ]
    }
   ],
   "source": [
    "import pandas as pd\n",
    "\n",
    "returns= [\n",
    "    ['asset', 'return', 'risk', 'weight'],\n",
    "    ['Absolute Return', 3.5, 7.0, 21,6],\n",
    "    ['Domestic Equity', 6, 17, 21.7],\n",
    "    ['Foreign Equity', 11, 23, 5.25],\n",
    "    ['Leveraged Buyouts', 8.6, 21.1, 8.4],\n",
    "    ['Natural Resources', 8.5, 24, 6.6],\n",
    "    ['Real Estate', 5.5, 16, 9.5],\n",
    "    ['Venture Capital', 12.3, 37.8 ,7.7],\n",
    "    ['Cash and Fixed Income', ]\n",
    "]"
   ]
  }
 ],
 "metadata": {
  "kernelspec": {
   "display_name": "base",
   "language": "python",
   "name": "python3"
  },
  "language_info": {
   "codemirror_mode": {
    "name": "ipython",
    "version": 3
   },
   "file_extension": ".py",
   "mimetype": "text/x-python",
   "name": "python",
   "nbconvert_exporter": "python",
   "pygments_lexer": "ipython3",
   "version": "3.11.4"
  }
 },
 "nbformat": 4,
 "nbformat_minor": 2
}
